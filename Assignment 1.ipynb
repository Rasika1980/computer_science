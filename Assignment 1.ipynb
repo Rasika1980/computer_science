{
 "cells": [
  {
   "cell_type": "markdown",
   "id": "3f6ca50f-9bf0-415a-838a-53b53460a1ed",
   "metadata": {},
   "source": [
    "# Assignment 1\n"
   ]
  },
  {
   "cell_type": "markdown",
   "id": "a414dfb1-4600-43b5-b30f-1f77a3d0bac9",
   "metadata": {},
   "source": [
    "### 01/02/2025"
   ]
  },
  {
   "cell_type": "markdown",
   "id": "f51d48d8-9cd0-4f33-b8f4-6f00fc2cd5ca",
   "metadata": {},
   "source": [
    "## **Rasika Karunanayake**"
   ]
  },
  {
   "cell_type": "markdown",
   "id": "8a21ed5e-e322-4cd9-80de-109a2e9b419e",
   "metadata": {},
   "source": [
    "### Most Commonly Used Programming Languages:\n",
    "- Python\n",
    "- JavaScript\n",
    "- Java\n",
    "- C#\n",
    "- C++\n",
    "- PHP\n",
    "- Swift\n",
    "- Kotlin\n",
    "- Ruby\n",
    "- Go"
   ]
  },
  {
   "cell_type": "markdown",
   "id": "961f9f7a-9223-4179-abc5-a2fcf89524dc",
   "metadata": {},
   "source": [
    "### Devices and Media Table:\n",
    "| Intermediate Devices | End Devices | Media |\n",
    "|----------------------|------------|-------|\n",
    "| Router              | PC         | Copper Cable |\n",
    "| Switch              | Laptop     | Fiber Optic  |\n",
    "| Hub                | Smartphone | Wireless     |\n",
    "| Bridge             | Tablet     | Coaxial Cable|"
   ]
  },
  {
   "cell_type": "markdown",
   "id": "392a68fe-b916-42e5-b216-19b2a9a008a4",
   "metadata": {},
   "source": [
    "# Code Cells\n",
    "# 1. Print your name\n"
   ]
  },
  {
   "cell_type": "code",
   "execution_count": 5,
   "id": "1cccfd52-30bd-47aa-a59d-2d62691e476d",
   "metadata": {},
   "outputs": [
    {
     "name": "stdout",
     "output_type": "stream",
     "text": [
      "Rasika\n"
     ]
    }
   ],
   "source": [
    "print(\"Rasika\")\n"
   ]
  },
  {
   "cell_type": "markdown",
   "id": "63f26651-c5d7-4529-a547-b53293156b78",
   "metadata": {},
   "source": [
    "# 2. Take user's name as input and print a greeting"
   ]
  },
  {
   "cell_type": "code",
   "execution_count": 8,
   "id": "df42dc61-dfba-4170-935b-c7eaa64134fe",
   "metadata": {},
   "outputs": [
    {
     "name": "stdin",
     "output_type": "stream",
     "text": [
      "Enter your name:  Rasika\n"
     ]
    },
    {
     "name": "stdout",
     "output_type": "stream",
     "text": [
      "Hello Rasika\n"
     ]
    }
   ],
   "source": [
    "user_name = input(\"Enter your name: \")\n",
    "print(\"Hello\", user_name)"
   ]
  },
  {
   "cell_type": "markdown",
   "id": "20bd2f6b-f729-4797-9e34-30bf48c85264",
   "metadata": {},
   "source": [
    "# 3. Take two numbers from the user and print their sum"
   ]
  },
  {
   "cell_type": "code",
   "execution_count": 11,
   "id": "344db1a4-2cf1-4ce1-b978-c00417b9467d",
   "metadata": {},
   "outputs": [
    {
     "name": "stdin",
     "output_type": "stream",
     "text": [
      "Enter first number:  58\n",
      "Enter second number:  68\n"
     ]
    },
    {
     "name": "stdout",
     "output_type": "stream",
     "text": [
      "The sum is: 126\n"
     ]
    }
   ],
   "source": [
    "num1 = int(input(\"Enter first number: \"))\n",
    "num2 = int(input(\"Enter second number: \"))\n",
    "sum_result = num1 + num2\n",
    "print(\"The sum is:\", sum_result)"
   ]
  },
  {
   "cell_type": "code",
   "execution_count": null,
   "id": "6a64455e-6b01-4538-8721-69bf4816dc6f",
   "metadata": {},
   "outputs": [],
   "source": []
  }
 ],
 "metadata": {
  "kernelspec": {
   "display_name": "anaconda-2024.02-py310",
   "language": "python",
   "name": "conda-env-anaconda-2024.02-py310-py"
  },
  "language_info": {
   "codemirror_mode": {
    "name": "ipython",
    "version": 3
   },
   "file_extension": ".py",
   "mimetype": "text/x-python",
   "name": "python",
   "nbconvert_exporter": "python",
   "pygments_lexer": "ipython3",
   "version": "3.10.14"
  }
 },
 "nbformat": 4,
 "nbformat_minor": 5
}
