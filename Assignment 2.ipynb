{
 "cells": [
  {
   "cell_type": "markdown",
   "id": "65d80910-a710-4b87-b888-fafd6f48ec98",
   "metadata": {},
   "source": [
    "## Rasika Karunanayake\n"
   ]
  },
  {
   "cell_type": "markdown",
   "id": "8a7ab7a8-9a15-49b0-ac0e-b871fdc27d30",
   "metadata": {},
   "source": [
    "### 07/02/2025\n"
   ]
  },
  {
   "cell_type": "markdown",
   "id": "52d11109-bc55-4647-bca3-22732ecf1cec",
   "metadata": {
    "editable": true,
    "slideshow": {
     "slide_type": ""
    },
    "tags": []
   },
   "source": [
    "# Exercise 1"
   ]
  },
  {
   "cell_type": "code",
   "execution_count": 5,
   "id": "c9ed3f6f-7a3c-463e-959e-3405d217280f",
   "metadata": {
    "editable": true,
    "slideshow": {
     "slide_type": ""
    },
    "tags": []
   },
   "outputs": [
    {
     "name": "stdout",
     "output_type": "stream",
     "text": [
      "    The result of the calculation was:\n",
      "     149769\n"
     ]
    }
   ],
   "source": [
    "# 1. Define two variables and assign values\n",
    "num_a = 100\n",
    "num_b = 29\n",
    "\n",
    "# 2. Sum the two numbers and multiply by 3\n",
    "sum_multiplied = (num_a + num_b) * 3\n",
    "\n",
    "# 3. Calculate the 2nd exponent of the result\n",
    "final_result = sum_multiplied ** 2\n",
    "\n",
    "# 4. Print the formatted result\n",
    "print(\"    The result of the calculation was:\")\n",
    "print(\"    \", final_result)"
   ]
  },
  {
   "cell_type": "markdown",
   "id": "8f07c9d8-6394-46a8-8498-e226754225d1",
   "metadata": {
    "editable": true,
    "slideshow": {
     "slide_type": ""
    },
    "tags": []
   },
   "source": [
    "# Exercise 2"
   ]
  },
  {
   "cell_type": "code",
   "execution_count": 8,
   "id": "2e6f6a6b-4b1e-45ef-93f4-1a8b07e1d1cf",
   "metadata": {
    "editable": true,
    "slideshow": {
     "slide_type": ""
    },
    "tags": []
   },
   "outputs": [
    {
     "name": "stdin",
     "output_type": "stream",
     "text": [
      "Enter your name:  John\n",
      "Enter your year of birth:  1995\n",
      "Enter your age:  26\n"
     ]
    },
    {
     "name": "stdout",
     "output_type": "stream",
     "text": [
      "Password: 95Joh676\n"
     ]
    }
   ],
   "source": [
    "# 1. Get user input for name, year of birth, and age\n",
    "name = input(\"Enter your name: \")\n",
    "year_of_birth = int(input(\"Enter your year of birth: \"))\n",
    "age = int(input(\"Enter your age: \"))\n",
    "\n",
    "# 2. Generate password components\n",
    "last_two_digits = str(year_of_birth)[-2:]\n",
    "first_three_letters = name[:3]\n",
    "age_squared = str(age ** 2)\n",
    "\n",
    "# 3. Create password\n",
    "password = last_two_digits + first_three_letters + age_squared\n",
    "\n",
    "# 4. Print the generated password\n",
    "print(\"Password:\", password)"
   ]
  },
  {
   "cell_type": "markdown",
   "id": "3b35c69c-5196-4b49-a9a0-86e63913516a",
   "metadata": {
    "editable": true,
    "slideshow": {
     "slide_type": ""
    },
    "tags": []
   },
   "source": [
    "# Exercise 3"
   ]
  },
  {
   "cell_type": "code",
   "execution_count": 11,
   "id": "35986536-0ec0-4793-a5bd-0cb1bd8cb313",
   "metadata": {
    "editable": true,
    "slideshow": {
     "slide_type": ""
    },
    "tags": []
   },
   "outputs": [
    {
     "name": "stdin",
     "output_type": "stream",
     "text": [
      "Enter first number:  5\n",
      "Enter second number:  6\n"
     ]
    },
    {
     "name": "stdout",
     "output_type": "stream",
     "text": [
      "One of the numbers is even.\n"
     ]
    }
   ],
   "source": [
    "# Check if numbers are even or odd\n",
    "num1 = int(input(\"Enter first number: \"))\n",
    "num2 = int(input(\"Enter second number: \"))\n",
    "\n",
    "if num1 % 2 == 0 and num2 % 2 == 0:\n",
    "    print(\"Both numbers are even.\")\n",
    "elif num1 % 2 == 0 or num2 % 2 == 0:\n",
    "    print(\"One of the numbers is even.\")\n",
    "else:\n",
    "    print(\"Both numbers are odd.\")"
   ]
  },
  {
   "cell_type": "markdown",
   "id": "0f8e5667-4b90-4520-81bf-5aa8aaa3d7a5",
   "metadata": {
    "editable": true,
    "slideshow": {
     "slide_type": ""
    },
    "tags": []
   },
   "source": [
    "# Exercise 4"
   ]
  },
  {
   "cell_type": "code",
   "execution_count": 16,
   "id": "16fe98f8-fe01-414d-9d10-15cb8b1d8d5e",
   "metadata": {
    "editable": true,
    "slideshow": {
     "slide_type": ""
    },
    "tags": []
   },
   "outputs": [
    {
     "name": "stdin",
     "output_type": "stream",
     "text": [
      "Give an integer:  5\n"
     ]
    },
    {
     "name": "stdout",
     "output_type": "stream",
     "text": [
      "The sum was: 10\n"
     ]
    }
   ],
   "source": [
    "# Sum of all positive numbers from 0 to user input\n",
    "user_number = int(input(\"Give an integer: \"))\n",
    "sum_of_numbers = sum(range(user_number))\n",
    "print(\"The sum was:\", sum_of_numbers)"
   ]
  },
  {
   "cell_type": "markdown",
   "id": "28a07939-0178-4dda-8379-21950192e3fb",
   "metadata": {
    "editable": true,
    "slideshow": {
     "slide_type": ""
    },
    "tags": []
   },
   "source": [
    "# Exercise 5"
   ]
  },
  {
   "cell_type": "code",
   "execution_count": 14,
   "id": "f1c309f5-6abf-4ffd-90b3-3d54e7f28274",
   "metadata": {},
   "outputs": [
    {
     "name": "stdout",
     "output_type": "stream",
     "text": [
      "Player 1's turn:\n"
     ]
    },
    {
     "name": "stdin",
     "output_type": "stream",
     "text": [
      "Player 1, enter your guess:  7\n"
     ]
    },
    {
     "name": "stdout",
     "output_type": "stream",
     "text": [
      "Try a greater number.\n"
     ]
    },
    {
     "name": "stdin",
     "output_type": "stream",
     "text": [
      "Player 1, enter your guess:  8\n"
     ]
    },
    {
     "name": "stdout",
     "output_type": "stream",
     "text": [
      "That's right! Number of tries: 2\n",
      "Player 2's turn:\n"
     ]
    },
    {
     "name": "stdin",
     "output_type": "stream",
     "text": [
      "Player 2, enter your guess:  5\n"
     ]
    },
    {
     "name": "stdout",
     "output_type": "stream",
     "text": [
      "Try a greater number.\n"
     ]
    },
    {
     "name": "stdin",
     "output_type": "stream",
     "text": [
      "Player 2, enter your guess:  6\n"
     ]
    },
    {
     "name": "stdout",
     "output_type": "stream",
     "text": [
      "Try a greater number.\n"
     ]
    },
    {
     "name": "stdin",
     "output_type": "stream",
     "text": [
      "Player 2, enter your guess:  8\n"
     ]
    },
    {
     "name": "stdout",
     "output_type": "stream",
     "text": [
      "Try a greater number.\n"
     ]
    },
    {
     "name": "stdin",
     "output_type": "stream",
     "text": [
      "Player 2, enter your guess:  9\n"
     ]
    },
    {
     "name": "stdout",
     "output_type": "stream",
     "text": [
      "Try a greater number.\n"
     ]
    },
    {
     "name": "stdin",
     "output_type": "stream",
     "text": [
      "Player 2, enter your guess:  7\n"
     ]
    },
    {
     "name": "stdout",
     "output_type": "stream",
     "text": [
      "Try a greater number.\n"
     ]
    },
    {
     "name": "stdin",
     "output_type": "stream",
     "text": [
      "Player 2, enter your guess:  10\n"
     ]
    },
    {
     "name": "stdout",
     "output_type": "stream",
     "text": [
      "That's right! Number of tries: 6\n",
      "Winner is Player 1\n"
     ]
    }
   ],
   "source": [
    "# Guessing Game\n",
    "import random\n",
    "\n",
    "def play_guessing_game(player_name):\n",
    "    dealer_number = random.randint(0, 10)\n",
    "    attempts = 0\n",
    "    while True:\n",
    "        try:\n",
    "            guess = int(input(f\"{player_name}, enter your guess: \"))\n",
    "            attempts += 1\n",
    "            if guess < dealer_number:\n",
    "                print(\"Try a greater number.\")\n",
    "            elif guess > dealer_number:\n",
    "                print(\"Try a smaller number.\")\n",
    "            else:\n",
    "                print(f\"That's right! Number of tries: {attempts}\")\n",
    "                return attempts\n",
    "        except ValueError:\n",
    "            print(\"Invalid input. Please enter an integer.\")\n",
    "\n",
    "# Player 1\n",
    "print(\"Player 1's turn:\")\n",
    "player1_attempts = play_guessing_game(\"Player 1\")\n",
    "\n",
    "# Player 2\n",
    "print(\"Player 2's turn:\")\n",
    "player2_attempts = play_guessing_game(\"Player 2\")\n",
    "\n",
    "# Determine winner\n",
    "if player1_attempts < player2_attempts:\n",
    "    print(\"Winner is Player 1\")\n",
    "elif player1_attempts > player2_attempts:\n",
    "    print(\"Winner is Player 2\")\n",
    "else:\n",
    "    print(\"It's a tie!\")"
   ]
  },
  {
   "cell_type": "code",
   "execution_count": null,
   "id": "fef8ef9c-bcae-4a43-a27e-49b781f883a8",
   "metadata": {},
   "outputs": [],
   "source": []
  }
 ],
 "metadata": {
  "kernelspec": {
   "display_name": "anaconda-2024.02-py310",
   "language": "python",
   "name": "conda-env-anaconda-2024.02-py310-py"
  },
  "language_info": {
   "codemirror_mode": {
    "name": "ipython",
    "version": 3
   },
   "file_extension": ".py",
   "mimetype": "text/x-python",
   "name": "python",
   "nbconvert_exporter": "python",
   "pygments_lexer": "ipython3",
   "version": "3.10.14"
  }
 },
 "nbformat": 4,
 "nbformat_minor": 5
}
