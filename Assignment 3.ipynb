{
 "cells": [
  {
   "cell_type": "markdown",
   "id": "1e3966e5-6827-4fb0-a8ca-752a8b7174dd",
   "metadata": {},
   "source": [
    "## Rasika Karunanayake\n",
    "\n"
   ]
  },
  {
   "cell_type": "markdown",
   "id": "934d2c9e-9a71-4359-8148-f267832a5603",
   "metadata": {},
   "source": [
    "### 13/02/2025\n",
    "\n"
   ]
  },
  {
   "cell_type": "markdown",
   "id": "2eb68d74-288f-482c-a1ae-109e83fd93bf",
   "metadata": {},
   "source": [
    "# Exercise 3.1"
   ]
  },
  {
   "cell_type": "markdown",
   "id": "b16a9ba7-514b-4e71-9e21-5c34407abd36",
   "metadata": {},
   "source": [
    "### Write a lambda expression to get the product of two numbers."
   ]
  },
  {
   "cell_type": "code",
   "execution_count": 8,
   "id": "a5a1e3a0-4c0b-41b6-845f-3e6355602fad",
   "metadata": {},
   "outputs": [
    {
     "name": "stdout",
     "output_type": "stream",
     "text": [
      "Output: 30\n"
     ]
    }
   ],
   "source": [
    "# Lambda Expression for Product\n",
    "product = lambda x, y: x * y\n",
    "result = product(5, 6)\n",
    "print(\"Output:\", result)\n"
   ]
  },
  {
   "cell_type": "markdown",
   "id": "db139a55-45fe-4391-9fa4-5c4cb068a6ba",
   "metadata": {},
   "source": [
    "# Exercise 3.2"
   ]
  },
  {
   "cell_type": "markdown",
   "id": "3671ca08-33b1-4e16-8dbc-77fde86ab17a",
   "metadata": {},
   "source": [
    "### Write a function to get the area of a circle from the radius."
   ]
  },
  {
   "cell_type": "code",
   "execution_count": 13,
   "id": "c1fad7c2-3728-4c52-b010-f67b143bdc4d",
   "metadata": {},
   "outputs": [
    {
     "name": "stdout",
     "output_type": "stream",
     "text": [
      "The area of a circle with radius 10 is: 314.1592653589793\n"
     ]
    }
   ],
   "source": [
    "# Function to calculate the area of a circle from the radius\n",
    "import math\n",
    "\n",
    "def area_of_circle(radius):\n",
    "    return math.pi * (radius ** 2)\n",
    "\n",
    "# Test the function\n",
    "radius = 10\n",
    "area = area_of_circle(radius)\n",
    "print(f\"The area of a circle with radius {radius} is: {area}\")"
   ]
  },
  {
   "cell_type": "markdown",
   "id": "c6fd21ff-1ec2-49ec-bf30-106f2d34b3b2",
   "metadata": {},
   "source": [
    "# Exercise 3.3"
   ]
  },
  {
   "cell_type": "markdown",
   "id": "212b36e7-4f8a-4e02-8533-2ef74a4003e6",
   "metadata": {},
   "source": [
    "### Build a simple calculator which can:add, subtract, multiply, divide."
   ]
  },
  {
   "cell_type": "code",
   "execution_count": 22,
   "id": "ab6c92c6-d653-4a52-b782-988c75868430",
   "metadata": {},
   "outputs": [
    {
     "name": "stdout",
     "output_type": "stream",
     "text": [
      "Output: 0.4\n"
     ]
    }
   ],
   "source": [
    "def simple_calculator(num1, num2, operation):\n",
    "    if operation == 'a':  # Add\n",
    "        return num1 + num2\n",
    "    elif operation == 's':  # Subtract\n",
    "        return num1 - num2\n",
    "    elif operation == 'm':  # Multiply\n",
    "        return num1 * num2\n",
    "    elif operation == 'd':  # Divide\n",
    "        if num2 != 0:\n",
    "            return num1 / num2\n",
    "        else:\n",
    "            return \"Error: Division by zero\"\n",
    "    else:\n",
    "        return \"Invalid operation\"\n",
    "\n",
    "# Test the function\n",
    "result = simple_calculator(2, 5, 'd')\n",
    "print(\"Output:\", result)\n"
   ]
  },
  {
   "cell_type": "markdown",
   "id": "7f4b2866-49eb-4c14-a245-934871eca014",
   "metadata": {},
   "source": [
    "# Exercise 3.4"
   ]
  },
  {
   "cell_type": "markdown",
   "id": "f9ed1f32-b188-47fd-ae4e-9c358ea8cfe9",
   "metadata": {},
   "source": [
    "### Define a class named Rectangle which can be constructed by a length and width."
   ]
  },
  {
   "cell_type": "code",
   "execution_count": 27,
   "id": "a5e98853-d6fb-4ef0-8b2c-9a1b6c04f2d7",
   "metadata": {},
   "outputs": [
    {
     "name": "stdout",
     "output_type": "stream",
     "text": [
      "Output: 50\n"
     ]
    }
   ],
   "source": [
    "# Class definition\n",
    "class Rectangle:\n",
    "    def __init__(self, length, width):\n",
    "        self.length = length\n",
    "        self.width = width\n",
    "\n",
    "    def area(self):\n",
    "        return self.length * self.width\n",
    "\n",
    "# Test the Rectangle class\n",
    "r = Rectangle(5, 10)\n",
    "print(\"Output:\", r.area())  \n"
   ]
  },
  {
   "cell_type": "markdown",
   "id": "307ee3b1-f827-44b8-b20b-c9c5f0f57664",
   "metadata": {},
   "source": [
    "# Exercise 3.5"
   ]
  },
  {
   "cell_type": "markdown",
   "id": "926a3bdf-afea-4696-98df-c1a285a63d32",
   "metadata": {},
   "source": [
    "### Define a class named Shape and its subclass Square."
   ]
  },
  {
   "cell_type": "code",
   "execution_count": 31,
   "id": "ff9bb5d4-07ca-461c-85e4-974a68c27ae5",
   "metadata": {},
   "outputs": [
    {
     "name": "stdout",
     "output_type": "stream",
     "text": [
      "The area is: 25\n",
      "This is a: square\n"
     ]
    }
   ],
   "source": [
    "# Define the Shape class\n",
    "class Shape:\n",
    "    def __init__(self, name):\n",
    "        self.name = name\n",
    "\n",
    "    def area(self):\n",
    "        return 0\n",
    "\n",
    "# Define the Square subclass\n",
    "class Square(Shape):\n",
    "    def __init__(self, name, length):\n",
    "        super().__init__(name)\n",
    "        self.length = length\n",
    "\n",
    "    def area(self):\n",
    "        return self.length ** 2\n",
    "\n",
    "    def describe(self):\n",
    "        print(f\"This is a: {self.name}\")\n",
    "\n",
    "# Test the Square class\n",
    "s = Square('square', 5)\n",
    "print(f\"The area is: {s.area()}\")\n",
    "s.describe()\n"
   ]
  },
  {
   "cell_type": "code",
   "execution_count": null,
   "id": "4bf007ec-495a-4d25-b0c2-851500e74bcb",
   "metadata": {},
   "outputs": [],
   "source": []
  }
 ],
 "metadata": {
  "kernelspec": {
   "display_name": "anaconda-2024.02-py310",
   "language": "python",
   "name": "conda-env-anaconda-2024.02-py310-py"
  },
  "language_info": {
   "codemirror_mode": {
    "name": "ipython",
    "version": 3
   },
   "file_extension": ".py",
   "mimetype": "text/x-python",
   "name": "python",
   "nbconvert_exporter": "python",
   "pygments_lexer": "ipython3",
   "version": "3.10.14"
  }
 },
 "nbformat": 4,
 "nbformat_minor": 5
}
